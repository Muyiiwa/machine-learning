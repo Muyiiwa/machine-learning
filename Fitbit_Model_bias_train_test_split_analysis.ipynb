{
  "cells": [
    {
      "cell_type": "markdown",
      "metadata": {
        "id": "view-in-github",
        "colab_type": "text"
      },
      "source": [
        "<a href=\"https://colab.research.google.com/github/Muyiiwa/machine-learning/blob/main/Fitbit_Model_bias_train_test_split_analysis.ipynb\" target=\"_parent\"><img src=\"https://colab.research.google.com/assets/colab-badge.svg\" alt=\"Open In Colab\"/></a>"
      ]
    },
    {
      "cell_type": "code",
      "execution_count": null,
      "id": "62be060d",
      "metadata": {
        "id": "62be060d"
      },
      "outputs": [],
      "source": [
        "# importing modules and packages\n",
        "%matplotlib inline\n",
        "\n",
        "import pandas as pd\n",
        "import numpy as np\n",
        "from sklearn import preprocessing\n",
        "import matplotlib.pyplot as plt\n",
        "plt.rc(\"font\", size=14)\n",
        "import seaborn as sns\n",
        "sns.set(style=\"white\")\n",
        "sns.set(style=\"whitegrid\", color_codes=True)\n",
        "import statsmodels.api as sm\n",
        "import statsmodels.formula.api as smf\n",
        "from statsmodels.stats.outliers_influence import variance_inflation_factor\n",
        "import shap\n",
        "import datetime\n",
        "import time\n",
        "from datetime import datetime\n",
        "from datetime import timedelta\n",
        "\n",
        "import warnings\n",
        "warnings.filterwarnings('ignore')\n",
        "pd.options.display.max_columns = None\n",
        "\n",
        "from sklearn import preprocessing\n",
        "from sklearn.linear_model import LogisticRegression\n",
        "from sklearn.ensemble import RandomForestClassifier\n",
        "from sklearn.ensemble import RandomForestRegressor\n",
        "# from sklearn.trees import RandomForestClassifier\n",
        "from sklearn.model_selection import StratifiedKFold\n",
        "from sklearn.model_selection import RepeatedKFold\n",
        "from sklearn.feature_selection import RFECV\n",
        "from sklearn.inspection import PartialDependenceDisplay\n",
        "from sklearn.inspection import partial_dependence\n",
        "from sklearn import preprocessing, svm\n",
        "from sklearn.model_selection import train_test_split\n",
        "from sklearn.linear_model import LinearRegression\n",
        "from sklearn.metrics import mean_absolute_error,mean_squared_error\n",
        "# from sklearn.metrics import confusion_matrix\n",
        "# from sklearn.metrics import confusion_matrix, ConfusionMatrixDisplay\n",
        "# from sklearn.metrics import classification_report, confusion_matrix\n",
        "# from sklearn.metrics import classification_report\n",
        "# from sklearn.metrics import accuracy_score\n",
        "from sklearn.metrics import accuracy_score, confusion_matrix, classification_report, ConfusionMatrixDisplay"
      ]
    },
    {
      "cell_type": "code",
      "execution_count": null,
      "id": "91ff11fa",
      "metadata": {
        "id": "91ff11fa"
      },
      "outputs": [],
      "source": [
        "# read data\n",
        "daily = pd.read_csv('Eva_features_data_AB.csv', header=0)\n",
        "# data = data.dropna()\n",
        "print(daily.shape)\n",
        "print(list(daily.columns))\n",
        "print(daily.head())"
      ]
    },
    {
      "cell_type": "code",
      "execution_count": null,
      "id": "90273e17",
      "metadata": {
        "id": "90273e17"
      },
      "outputs": [],
      "source": [
        "#plotting the Scatter plot to check relationship between Sal and Temp\n",
        "sns.lmplot(x =\"Sal\", y =\"Temp\", data = df_binary, order = 2, ci = None)\n",
        "plt.show()\n",
        "\n",
        "# plotting a scatterplot\n",
        "sns.scatterplot(x='X4 number of convenience stores',\n",
        "\t\t\t\ty='Y house price of unit area', data=df)\n"
      ]
    },
    {
      "cell_type": "code",
      "execution_count": null,
      "id": "b8784367",
      "metadata": {
        "id": "b8784367"
      },
      "outputs": [],
      "source": [
        "label = daily[['label', 'nightly_temperature', 'nremhr', 'rmssd', 'spo2', 'full_sleep_breathing_rate', 'stress_score', 'sleep_points_percentage', 'exertion_points_percentage',\n",
        "'responsiveness_points_percentage', 'daily_temperature_variation', 'calories', 'filtereddemographicvo2max', 'bpm', 'lightly_active_minutes',\n",
        "'moderately_active_minutes', 'very_active_minutes', 'sedentary_minutes', 'scl_avg', 'resting_hr', 'sleep_duration', 'minutesasleep', 'minutesawake', 'minutesafterwakeup',\n",
        "'sleep_efficiency', 'sleep_deep_ratio', 'sleep_wake_ratio', 'sleep_light_ratio', 'sleep_rem_ratio', 'minutes_in_default_zone_1', 'minutes_below_default_zone_1',\n",
        "'minutes_in_default_zone_2', 'minutes_in_default_zone_3', 'female', 'over29age', 'female29plus']]\n",
        "\n",
        "# remove all NaNs from label dataset\n",
        "labelnm = label[~label.isin([np.nan, np.inf, -np.inf]).any(1)]\n",
        "\n",
        "# inspect resulting dataset\n",
        "labelnm.info()\n",
        "\n",
        "## Eliminating NaN or missing input numbers\n",
        "#df_binary.fillna(method ='ffill', inplace = True)\n",
        "\n",
        "## creating feature variables\n",
        "#X = df.drop('Y house price of unit area',axis= 1)\n",
        "#y = df['Y house price of unit area']\n",
        "#print(X)\n",
        "#print(y)\n"
      ]
    },
    {
      "cell_type": "code",
      "execution_count": null,
      "id": "d8102208",
      "metadata": {
        "id": "d8102208"
      },
      "outputs": [],
      "source": [
        "# feature set from label dataset\n",
        "feats = labelnm[['nightly_temperature', 'nremhr', 'rmssd', 'spo2', 'full_sleep_breathing_rate', 'stress_score', 'sleep_points_percentage', 'exertion_points_percentage',\n",
        "'responsiveness_points_percentage', 'daily_temperature_variation', 'calories', 'filtereddemographicvo2max', 'bpm', 'lightly_active_minutes',\n",
        "'moderately_active_minutes', 'very_active_minutes', 'sedentary_minutes', 'scl_avg', 'resting_hr', 'sleep_duration', 'minutesasleep', 'minutesawake', 'minutesafterwakeup',\n",
        "'sleep_efficiency', 'sleep_deep_ratio', 'sleep_wake_ratio', 'sleep_light_ratio', 'sleep_rem_ratio', 'minutes_in_default_zone_1', 'minutes_below_default_zone_1',\n",
        "'minutes_in_default_zone_2', 'minutes_in_default_zone_3']]\n",
        "\n",
        "# target set from label dataset\n",
        "targs = labelnm['label']\n",
        "\n",
        "label = daily[['label', 'moderately_active_minutes', 'very_active_minutes', 'lightly_active_minutes', 'calories', 'minutes_in_default_zone_1', 'exertion_points_percentage',\n",
        "'minutes_in_default_zone_2', 'nremhr', 'sedentary_minutes', 'female', 'over29age', 'female29plus']]\n",
        "\n",
        "# remove all NaNs from label dataset\n",
        "labelnm = label[~label.isin([np.nan, np.inf, -np.inf]).any(1)]\n",
        "\n",
        "# inspect resulting dataset\n",
        "labelnm.info()\n",
        "\n",
        "# feature set from label dataset\n",
        "feats = labelnm[['moderately_active_minutes', 'very_active_minutes', 'lightly_active_minutes', 'calories', 'minutes_in_default_zone_1', 'exertion_points_percentage',\n",
        "'minutes_in_default_zone_2', 'nremhr', 'sedentary_minutes']]\n",
        "\n",
        "# target set from label dataset\n",
        "targs = labelnm['label']\n",
        "\n",
        "regressors = RandomForestRegressor(n_estimators = 100, random_state = 0)\n",
        "regressors.fit(feats, targs)\n",
        "print(regressors.score(feats, targs))\n",
        "\n",
        "\n",
        "# read data\n",
        "daily = pd.read_csv('Eva_features_data_AB.csv', header=0)\n",
        "# data = data.dropna()\n",
        "print(daily.shape)\n",
        "print(list(daily.columns))\n",
        "\n",
        "label = daily[['label', 'moderately_active_minutes', 'very_active_minutes', 'lightly_active_minutes', 'calories', 'minutes_in_default_zone_1', 'exertion_points_percentage',\n",
        "'minutes_in_default_zone_2', 'nremhr', 'sedentary_minutes', 'female', 'over29age', 'female29plus']]\n",
        "\n",
        "# remove all NaNs from label dataset\n",
        "labelnm = label[~label.isin([np.nan, np.inf, -np.inf]).any(1)]\n",
        "\n",
        "# inspect resulting dataset\n",
        "print(labelnm.info())\n",
        "\n",
        "# target set from label dataset\n",
        "targs = labelnm['label']\n",
        "\n",
        "feats_f = labelnm[['moderately_active_minutes', 'very_active_minutes', 'lightly_active_minutes', 'calories', 'minutes_in_default_zone_1', 'exertion_points_percentage',\n",
        "'minutes_in_default_zone_2', 'nremhr', 'sedentary_minutes', 'female']]\n",
        "\n",
        "regressors_f = RandomForestRegressor(n_estimators = 100, random_state = 0)\n",
        "regressors_f.fit(feats_f, targs)\n",
        "print(regressors_f.score(feats_f, targs))"
      ]
    },
    {
      "cell_type": "code",
      "execution_count": null,
      "id": "3dcb4e29",
      "metadata": {
        "id": "3dcb4e29"
      },
      "outputs": [],
      "source": [
        "label = daily[['label', 'moderately_active_minutes', 'very_active_minutes', 'lightly_active_minutes', 'calories', 'minutes_in_default_zone_1', 'exertion_points_percentage',\n",
        "'minutes_in_default_zone_2', 'nremhr', 'sedentary_minutes', 'female', 'over29age', 'female29plus']]\n",
        "\n",
        "## remove all NaNs from label dataset\n",
        "#labelnm = label[~label.isin([np.nan, np.inf, -np.inf]).any(1)]\n",
        "\n",
        "## inspect resulting dataset\n",
        "#labelnm.info()\n",
        "label.info()"
      ]
    },
    {
      "cell_type": "code",
      "execution_count": null,
      "id": "f6f96a02",
      "metadata": {
        "id": "f6f96a02"
      },
      "outputs": [],
      "source": [
        "# feature set from label dataset\n",
        "feats = label[['moderately_active_minutes', 'very_active_minutes', 'lightly_active_minutes', 'calories', 'minutes_in_default_zone_1', 'exertion_points_percentage',\n",
        "'minutes_in_default_zone_2', 'nremhr', 'sedentary_minutes']]\n",
        "\n",
        "# target set from label dataset\n",
        "targs = label['label']"
      ]
    },
    {
      "cell_type": "code",
      "execution_count": null,
      "id": "3d9bbff3",
      "metadata": {
        "id": "3d9bbff3"
      },
      "outputs": [],
      "source": [
        "#X = np.array(df_binary['Sal']).reshape(-1, 1)\n",
        "#y = np.array(df_binary['Temp']).reshape(-1, 1)\n",
        "\n",
        "## Separating the data into independent and dependent variables\n",
        "## Converting each dataframe into a numpy array\n",
        "## since each dataframe contains only one column\n",
        "#df_binary.dropna(inplace = True)\n",
        "\n",
        "# creating train and test sets\n",
        "feats_train8, feats_test2, targs_train8, targs_test2 = train_test_split(feats, targs, test_size=0.2, random_state=101)\n",
        "\n",
        "# creating a regression model\n",
        "lin_model = LinearRegression()\n",
        "# fitting the model\n",
        "lin_model.fit(feats_train8,targs_train8)\n",
        "print(lin_model.score(feats_train8,targs_train8))\n",
        "print(lin_model.score(feats_test2, targs_test2))\n",
        "\n",
        "ran_model = RandomForestRegressor(n_estimators = 100, random_state = 0)\n",
        "ran_model.fit(feats_train8,targs_train8)\n",
        "print(ran_model.score(feats_train8,targs_train8))\n",
        "print(ran_model.score(feats_test2,targs_test2))"
      ]
    },
    {
      "cell_type": "markdown",
      "source": [],
      "metadata": {
        "id": "6xouMvnZp9-s"
      },
      "id": "6xouMvnZp9-s"
    },
    {
      "cell_type": "code",
      "execution_count": null,
      "id": "8d88a0ea",
      "metadata": {
        "id": "8d88a0ea"
      },
      "outputs": [],
      "source": [
        "print(feats_test2.shape)\n",
        "print(targs_test2.shape)"
      ]
    },
    {
      "cell_type": "code",
      "execution_count": null,
      "id": "6b20e6ae",
      "metadata": {
        "id": "6b20e6ae"
      },
      "outputs": [],
      "source": [
        "print(feats_train8.shape)\n",
        "feats_train8.head()"
      ]
    },
    {
      "cell_type": "code",
      "execution_count": null,
      "id": "371fdd3c",
      "metadata": {
        "id": "371fdd3c"
      },
      "outputs": [],
      "source": [
        "print(feats_test2.shape)\n",
        "feats_test2.head()"
      ]
    },
    {
      "cell_type": "code",
      "execution_count": null,
      "id": "1266a37c",
      "metadata": {
        "id": "1266a37c"
      },
      "outputs": [],
      "source": [
        "print(targs_train8.shape)\n",
        "targs_train8.head()"
      ]
    },
    {
      "cell_type": "code",
      "execution_count": null,
      "id": "5548176e",
      "metadata": {
        "id": "5548176e"
      },
      "outputs": [],
      "source": [
        "print(targs_test2.shape)\n",
        "targs_test2.head()"
      ]
    },
    {
      "cell_type": "code",
      "execution_count": null,
      "id": "a553ec35",
      "metadata": {
        "id": "a553ec35"
      },
      "outputs": [],
      "source": [
        "# making predictions\n",
        "lin_pred = lin_model.predict(feats_test2)\n",
        "ran_pred = ran_model.predict(feats_test2)\n",
        "print(lin_pred.shape)\n",
        "print(ran_pred.shape)"
      ]
    },
    {
      "cell_type": "code",
      "execution_count": null,
      "id": "83da498d",
      "metadata": {
        "id": "83da498d"
      },
      "outputs": [],
      "source": [
        "lin_pred.mean()"
      ]
    },
    {
      "cell_type": "code",
      "execution_count": null,
      "id": "08573afd",
      "metadata": {
        "id": "08573afd"
      },
      "outputs": [],
      "source": [
        "lin_pred.sum()"
      ]
    },
    {
      "cell_type": "code",
      "execution_count": null,
      "id": "e3b02536",
      "metadata": {
        "id": "e3b02536"
      },
      "outputs": [],
      "source": [
        "ran_pred.mean()"
      ]
    },
    {
      "cell_type": "code",
      "execution_count": null,
      "id": "57369013",
      "metadata": {
        "id": "57369013"
      },
      "outputs": [],
      "source": [
        "ran_pred.sum()"
      ]
    },
    {
      "cell_type": "code",
      "execution_count": null,
      "id": "dbc70a19",
      "metadata": {
        "id": "dbc70a19"
      },
      "outputs": [],
      "source": [
        "print(lin_pred.shape)\n",
        "lin_pred.head()"
      ]
    },
    {
      "cell_type": "code",
      "execution_count": null,
      "id": "5b90b0e1",
      "metadata": {
        "id": "5b90b0e1"
      },
      "outputs": [],
      "source": [
        "print(ran_pred.shape)\n",
        "ran_pred.head()"
      ]
    },
    {
      "cell_type": "code",
      "execution_count": null,
      "id": "46997a44",
      "metadata": {
        "id": "46997a44"
      },
      "outputs": [],
      "source": []
    },
    {
      "cell_type": "code",
      "execution_count": null,
      "id": "3f6c1858",
      "metadata": {
        "scrolled": false,
        "id": "3f6c1858"
      },
      "outputs": [],
      "source": [
        "# y_pred = regr.predict(X_test)\n",
        "plt.scatter(targs_test2, lin_pred, color ='b')\n",
        "#plt.plot(targs_test2, lin_pred, color ='k')\n",
        "\n",
        "plt.show()\n",
        "# Data scatter of predicted values\n",
        "\n",
        "#plt.scatter(feats_test2, targs_test2, color ='b')\n",
        "#plt.plot(feats_test2, ran_pred, color ='r')\n"
      ]
    },
    {
      "cell_type": "code",
      "execution_count": null,
      "id": "59c59500",
      "metadata": {
        "id": "59c59500"
      },
      "outputs": [],
      "source": [
        "# y_pred = regr.predict(X_test)\n",
        "plt.scatter(targs_test2, ran_pred, color ='r')\n",
        "#plt.plot(targs_test2, lin_pred, color ='k')\n",
        "\n",
        "plt.show()\n",
        "# Data scatter of predicted values\n",
        "\n",
        "#plt.scatter(feats_test2, targs_test2, color ='b')\n",
        "#plt.plot(feats_test2, ran_pred, color ='r')\n"
      ]
    },
    {
      "cell_type": "code",
      "execution_count": null,
      "id": "d15466db",
      "metadata": {
        "id": "d15466db"
      },
      "outputs": [],
      "source": [
        "lin_mae = mean_absolute_error(y_true=targs_test2,y_pred=lin_pred)\n",
        "#squared True returns MSE value, False returns RMSE value.\n",
        "lin_mse = mean_squared_error(y_true=targs_test2,y_pred=lin_pred) #default=True\n",
        "lin_rmse = mean_squared_error(y_true=targs_test2,y_pred=lin_pred,squared=False)\n",
        "\n",
        "print(\"lin reg MAE:\",lin_mae)\n",
        "print(\"lin reg MSE:\",lin_mse)\n",
        "print(\"lin reg RMSE:\",lin_rmse)\n",
        "\n",
        "ran_mae = mean_absolute_error(y_true=targs_test2,y_pred=ran_pred)\n",
        "#squared True returns MSE value, False returns RMSE value.\n",
        "ran_mse = mean_squared_error(y_true=targs_test2,y_pred=ran_pred) #default=True\n",
        "ran_rmse = mean_squared_error(y_true=targs_test2,y_pred=ran_pred,squared=False)\n",
        "\n",
        "print(\"ran for MAE:\",ran_mae)\n",
        "print(\"ran for MSE:\",ran_mse)\n",
        "print(\"ran for RMSE:\",ran_rmse)\n",
        "\n",
        "\n",
        "## model evaluation\n",
        "# print(\n",
        "#'mean_squared_error : ', mean_squared_error(y_test, predictions))\n",
        "#print(\n",
        "#'mean_absolute_error : ', mean_absolute_error(y_test, predictions))\n"
      ]
    },
    {
      "cell_type": "code",
      "execution_count": null,
      "id": "f00ebb11",
      "metadata": {
        "id": "f00ebb11"
      },
      "outputs": [],
      "source": [
        "label.info()"
      ]
    },
    {
      "cell_type": "code",
      "execution_count": null,
      "id": "d5f2c9a1",
      "metadata": {
        "id": "d5f2c9a1"
      },
      "outputs": [],
      "source": [
        "# making predictions\n",
        "lin_predt = lin_model.predict(feats_train8)\n",
        "ran_predt = ran_model.predict(feats_train8)\n",
        "print(lin_predt.shape)\n",
        "print(ran_predt.shape)"
      ]
    },
    {
      "cell_type": "code",
      "execution_count": null,
      "id": "d43e551b",
      "metadata": {
        "scrolled": true,
        "id": "d43e551b"
      },
      "outputs": [],
      "source": [
        "label['lin_preds'] = np.hstack([lin_predt,lin_pred])\n",
        "label['ran_preds'] = np.hstack([ran_predt,ran_pred])\n",
        "label.info()"
      ]
    },
    {
      "cell_type": "code",
      "execution_count": null,
      "id": "93b25691",
      "metadata": {
        "id": "93b25691"
      },
      "outputs": [],
      "source": [
        "label.to_csv('label.csv')\n",
        "feats_train8.to_csv('feats_train8.csv')\n",
        "feats_test2.to_csv('feats_test2.csv')\n",
        "targs_train8.to_csv('targs_train8.csv')\n",
        "targs_test2.to_csv('targs_test2.csv')"
      ]
    },
    {
      "cell_type": "code",
      "execution_count": null,
      "id": "62f5ccb1",
      "metadata": {
        "id": "62f5ccb1"
      },
      "outputs": [],
      "source": [
        "lin_pred_df = pd.DataFrame(lin_pred ,columns=[\"lin_pred\"])\n",
        "lin_pred_df.to_csv('lin_pred.csv',index = False)"
      ]
    },
    {
      "cell_type": "code",
      "execution_count": null,
      "id": "d5a5134d",
      "metadata": {
        "id": "d5a5134d"
      },
      "outputs": [],
      "source": [
        "ran_pred_df = pd.DataFrame(ran_pred ,columns=[\"ran_pred\"])\n",
        "ran_pred_df.to_csv('ran_pred.csv',index = False)"
      ]
    },
    {
      "cell_type": "code",
      "execution_count": null,
      "id": "6bdd151a",
      "metadata": {
        "id": "6bdd151a"
      },
      "outputs": [],
      "source": []
    },
    {
      "cell_type": "code",
      "execution_count": null,
      "id": "1c1a37e1",
      "metadata": {
        "id": "1c1a37e1"
      },
      "outputs": [],
      "source": [
        "females = label['female'] == 1\n",
        "print(label[females].shape)"
      ]
    },
    {
      "cell_type": "code",
      "execution_count": null,
      "id": "a4087a03",
      "metadata": {
        "id": "a4087a03"
      },
      "outputs": [],
      "source": [
        "males = label['female'] == 0\n",
        "print(label[males].shape)"
      ]
    },
    {
      "cell_type": "code",
      "execution_count": null,
      "id": "09aaf0c0",
      "metadata": {
        "id": "09aaf0c0"
      },
      "outputs": [],
      "source": [
        "print(label.shape)"
      ]
    },
    {
      "cell_type": "code",
      "execution_count": null,
      "id": "c7a26274",
      "metadata": {
        "id": "c7a26274"
      },
      "outputs": [],
      "source": [
        "females29plus = label['female29plus'] == 1\n",
        "print(label[females29plus].shape)"
      ]
    },
    {
      "cell_type": "code",
      "execution_count": null,
      "id": "8390d965",
      "metadata": {
        "id": "8390d965"
      },
      "outputs": [],
      "source": [
        "# feature set from label dataset\n",
        "feats_f = label[females][['moderately_active_minutes', 'very_active_minutes', 'lightly_active_minutes', 'calories', 'minutes_in_default_zone_1', 'exertion_points_percentage',\n",
        "'minutes_in_default_zone_2', 'nremhr', 'sedentary_minutes']]\n",
        "\n",
        "# target set from label dataset\n",
        "targs_f = label[females]['label']"
      ]
    },
    {
      "cell_type": "code",
      "execution_count": null,
      "id": "2bd549f3",
      "metadata": {
        "id": "2bd549f3"
      },
      "outputs": [],
      "source": [
        "print(feats_f.shape)\n",
        "print(targs_f.shape)"
      ]
    },
    {
      "cell_type": "code",
      "execution_count": null,
      "id": "a9ce1315",
      "metadata": {
        "id": "a9ce1315"
      },
      "outputs": [],
      "source": [
        "# feature set from label dataset\n",
        "feats_m = label[males][['moderately_active_minutes', 'very_active_minutes', 'lightly_active_minutes', 'calories', 'minutes_in_default_zone_1', 'exertion_points_percentage',\n",
        "'minutes_in_default_zone_2', 'nremhr', 'sedentary_minutes']]\n",
        "\n",
        "# target set from label dataset\n",
        "targs_m = label[males]['label']\n",
        "\n",
        "# feature set from label dataset\n",
        "feats_f29 = label[females29plus][['moderately_active_minutes', 'very_active_minutes', 'lightly_active_minutes', 'calories', 'minutes_in_default_zone_1', 'exertion_points_percentage',\n",
        "'minutes_in_default_zone_2', 'nremhr', 'sedentary_minutes']]\n",
        "\n",
        "# target set from label dataset\n",
        "targs_f29 = label[females29plus]['label']"
      ]
    },
    {
      "cell_type": "code",
      "execution_count": null,
      "id": "6d0a7d90",
      "metadata": {
        "id": "6d0a7d90"
      },
      "outputs": [],
      "source": [
        "print(feats_m.shape)\n",
        "print(targs_m.shape)\n",
        "print(feats_f29.shape)\n",
        "print(targs_f29.shape)"
      ]
    },
    {
      "cell_type": "code",
      "execution_count": null,
      "id": "7a0c9586",
      "metadata": {
        "id": "7a0c9586"
      },
      "outputs": [],
      "source": [
        "# creating train and test sets\n",
        "featsf_train8, featsf_test2, targsf_train8, targsf_test2 = train_test_split(feats_f, targs_f, test_size=0.2, random_state=101)\n",
        "featsm_train8, featsm_test2, targsm_train8, targsm_test2 = train_test_split(feats_m, targs_m, test_size=0.2, random_state=101)\n",
        "featsf29_train8, featsf29_test2, targsf29_train8, targsf29_test2 = train_test_split(feats_f29, targs_f29, test_size=0.2, random_state=101)\n",
        "\n",
        "# creating a regression model\n",
        "linf_model = LinearRegression()\n",
        "linm_model = LinearRegression()\n",
        "linf29_model = LinearRegression()\n",
        "# fitting the model\n",
        "linf_model.fit(featsf_train8,targsf_train8)\n",
        "print(linf_model.score(featsf_train8,targsf_train8))\n",
        "print(linf_model.score(featsf_test2, targsf_test2))\n",
        "linm_model.fit(featsm_train8,targsm_train8)\n",
        "print(linm_model.score(featsm_train8,targsm_train8))\n",
        "print(linm_model.score(featsm_test2, targsm_test2))\n",
        "linf29_model.fit(featsf29_train8,targsf29_train8)\n",
        "print(linf29_model.score(featsf29_train8,targsf29_train8))\n",
        "print(linf29_model.score(featsf29_test2, targsf29_test2))\n",
        "\n",
        "ranf_model = RandomForestRegressor(n_estimators = 100, random_state = 0)\n",
        "ranf_model.fit(featsf_train8,targsf_train8)\n",
        "print(ranf_model.score(featsf_train8,targsf_train8))\n",
        "print(ranf_model.score(featsf_test2,targsf_test2))\n",
        "ranm_model = RandomForestRegressor(n_estimators = 100, random_state = 0)\n",
        "ranm_model.fit(featsm_train8,targsm_train8)\n",
        "print(ranm_model.score(featsm_train8,targsm_train8))\n",
        "print(ranm_model.score(featsm_test2,targsm_test2))\n",
        "ranf29_model = RandomForestRegressor(n_estimators = 100, random_state = 0)\n",
        "ranf29_model.fit(featsf29_train8,targsf29_train8)\n",
        "print(ranf29_model.score(featsf29_train8,targsf29_train8))\n",
        "print(ranf29_model.score(featsf29_test2,targsf29_test2))\n",
        "\n",
        "# making predictions\n",
        "linf_pred = linf_model.predict(featsf_test2)\n",
        "ranf_pred = ranf_model.predict(featsf_test2)\n",
        "print(linf_pred.shape)\n",
        "print(ranf_pred.shape)\n",
        "linm_pred = linm_model.predict(featsm_test2)\n",
        "ranm_pred = ranm_model.predict(featsm_test2)\n",
        "print(linm_pred.shape)\n",
        "print(ranm_pred.shape)\n",
        "linf29_pred = linf29_model.predict(featsf29_test2)\n",
        "ranf29_pred = ranf29_model.predict(featsf29_test2)\n",
        "print(linf29_pred.shape)\n",
        "print(ranf29_pred.shape)\n",
        "\n",
        "linf_mae = mean_absolute_error(y_true=targsf_test2,y_pred=linf_pred)\n",
        "#squared True returns MSE value, False returns RMSE value.\n",
        "linf_mse = mean_squared_error(y_true=targsf_test2,y_pred=linf_pred) #default=True\n",
        "linf_rmse = mean_squared_error(y_true=targsf_test2,y_pred=linf_pred,squared=False)\n",
        "\n",
        "print(\"linf reg MAE:\",linf_mae)\n",
        "print(\"linf reg MSE:\",linf_mse)\n",
        "print(\"linf reg RMSE:\",linf_rmse)\n",
        "\n",
        "ranf_mae = mean_absolute_error(y_true=targsf_test2,y_pred=ranf_pred)\n",
        "#squared True returns MSE value, False returns RMSE value.\n",
        "ranf_mse = mean_squared_error(y_true=targsf_test2,y_pred=ranf_pred) #default=True\n",
        "ranf_rmse = mean_squared_error(y_true=targsf_test2,y_pred=ranf_pred,squared=False)\n",
        "\n",
        "print(\"ranf for MAE:\",ranf_mae)\n",
        "print(\"ranf for MSE:\",ranf_mse)\n",
        "print(\"ranf for RMSE:\",ranf_rmse)\n",
        "\n",
        "linm_mae = mean_absolute_error(y_true=targsm_test2,y_pred=linm_pred)\n",
        "#squared True returns MSE value, False returns RMSE value.\n",
        "linm_mse = mean_squared_error(y_true=targsm_test2,y_pred=linm_pred) #default=True\n",
        "linm_rmse = mean_squared_error(y_true=targsm_test2,y_pred=linm_pred,squared=False)\n",
        "\n",
        "print(\"linm reg MAE:\",linm_mae)\n",
        "print(\"linm reg MSE:\",linm_mse)\n",
        "print(\"linm reg RMSE:\",linm_rmse)\n",
        "\n",
        "ranm_mae = mean_absolute_error(y_true=targsm_test2,y_pred=ranm_pred)\n",
        "#squared True returns MSE value, False returns RMSE value.\n",
        "ranm_mse = mean_squared_error(y_true=targsm_test2,y_pred=ranm_pred) #default=True\n",
        "ranm_rmse = mean_squared_error(y_true=targsm_test2,y_pred=ranm_pred,squared=False)\n",
        "\n",
        "print(\"ranm for MAE:\",ranm_mae)\n",
        "print(\"ranm for MSE:\",ranm_mse)\n",
        "print(\"ranm for RMSE:\",ranm_rmse)\n",
        "\n",
        "linf29_mae = mean_absolute_error(y_true=targsf29_test2,y_pred=linf29_pred)\n",
        "#squared True returns MSE value, False returns RMSE value.\n",
        "linf29_mse = mean_squared_error(y_true=targsf29_test2,y_pred=linf29_pred) #default=True\n",
        "linf29_rmse = mean_squared_error(y_true=targsf29_test2,y_pred=linf29_pred,squared=False)\n",
        "\n",
        "print(\"linf29 reg MAE:\",linf29_mae)\n",
        "print(\"linf29 reg MSE:\",linf29_mse)\n",
        "print(\"linf29 reg RMSE:\",linf29_rmse)\n",
        "\n",
        "ranf29_mae = mean_absolute_error(y_true=targsf29_test2,y_pred=ranf29_pred)\n",
        "#squared True returns MSE value, False returns RMSE value.\n",
        "ranf29_mse = mean_squared_error(y_true=targsf29_test2,y_pred=ranf29_pred) #default=True\n",
        "ranf29_rmse = mean_squared_error(y_true=targsf29_test2,y_pred=ranf29_pred,squared=False)\n",
        "\n",
        "print(\"ranf29 for MAE:\",ranf29_mae)\n",
        "print(\"ranf29 for MSE:\",ranf29_mse)\n",
        "print(\"ranf29 for RMSE:\",ranf29_rmse)\n"
      ]
    },
    {
      "cell_type": "code",
      "execution_count": null,
      "id": "e85d1999",
      "metadata": {
        "id": "e85d1999"
      },
      "outputs": [],
      "source": [
        "daily.loc[daily['female'] == 0]\n",
        "daily.loc[daily['female'] == 1]\n",
        "daily.loc[daily['female29plus'] == 1]\n",
        "daily.loc[(daily['female'] == 1) & (daily['over29age'] == 1)]\n",
        "\n",
        "mask = daily['female'] == 1\n",
        "daily[mask]\n",
        "\n",
        "mask2 = (daily['female'] == 1) & (daily['over29age'] == 1)\n",
        "daily[mask2]\n",
        "print(daily.shape)\n",
        "print(list(daily.columns))\n",
        "print(daily.head())"
      ]
    },
    {
      "cell_type": "code",
      "execution_count": null,
      "id": "334f01b9",
      "metadata": {
        "id": "334f01b9"
      },
      "outputs": [],
      "source": [
        "# df_binary500 = df_binary[:][:500]\n",
        "\n",
        "# Selecting the 1st 500 rows of the data\n",
        "sns.lmplot(x =\"Sal\", y =\"Temp\", data = df_binary500,\n",
        "\t\t\t\t\t\t\torder = 2, ci = None)\n"
      ]
    },
    {
      "cell_type": "code",
      "execution_count": null,
      "id": "16278534",
      "metadata": {
        "id": "16278534"
      },
      "outputs": [],
      "source": [
        "df_binary500.fillna(method ='fill', inplace = True)\n",
        "\n",
        "X = np.array(df_binary500['Sal']).reshape(-1, 1)\n",
        "y = np.array(df_binary500['Temp']).reshape(-1, 1)\n",
        "\n",
        "df_binary500.dropna(inplace = True)\n",
        "X_train, X_test, y_train, y_test = train_test_split(X, y, test_size = 0.25)\n",
        "\n",
        "regr = LinearRegression()\n",
        "regr.fit(X_train, y_train)\n",
        "print(regr.score(X_test, y_test))\n"
      ]
    },
    {
      "cell_type": "code",
      "execution_count": null,
      "id": "5b8c9001",
      "metadata": {
        "id": "5b8c9001"
      },
      "outputs": [],
      "source": [
        "y_pred = regr.predict(X_test)\n",
        "plt.scatter(X_test, y_test, color ='b')\n",
        "plt.plot(X_test, y_pred, color ='k')\n",
        "\n",
        "plt.show()\n"
      ]
    }
  ],
  "metadata": {
    "kernelspec": {
      "display_name": "Python 3 (ipykernel)",
      "language": "python",
      "name": "python3"
    },
    "language_info": {
      "codemirror_mode": {
        "name": "ipython",
        "version": 3
      },
      "file_extension": ".py",
      "mimetype": "text/x-python",
      "name": "python",
      "nbconvert_exporter": "python",
      "pygments_lexer": "ipython3",
      "version": "3.11.5"
    },
    "colab": {
      "provenance": [],
      "include_colab_link": true
    }
  },
  "nbformat": 4,
  "nbformat_minor": 5
}