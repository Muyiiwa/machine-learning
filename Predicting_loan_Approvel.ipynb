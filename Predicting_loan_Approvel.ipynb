{
  "cells": [
    {
      "cell_type": "markdown",
      "metadata": {
        "id": "view-in-github",
        "colab_type": "text"
      },
      "source": [
        "<a href=\"https://colab.research.google.com/github/Muyiiwa/machine-learning/blob/main/Predicting_loan_Approvel.ipynb\" target=\"_parent\"><img src=\"https://colab.research.google.com/assets/colab-badge.svg\" alt=\"Open In Colab\"/></a>"
      ]
    },
    {
      "cell_type": "code",
      "source": [
        "import pandas as pd\n",
        "from sklearn.linear_model import LinearRegression\n",
        "\n",
        "data = {\n",
        "    'Person': ['Client01', 'Client02', 'Client03', 'Client04', 'Client05', 'Client06', 'Client07', 'Client08', 'Client09', 'Client10', 'Client11', 'Client12', 'Client13', 'Client14', 'Client15', 'Client16', 'Client17', 'Client18', 'Client19', 'Client20'],\n",
        "    'AverageDepositSavings': [46698, 17, 52632, 0, 12460, 194, 0, 79379, 3316, 0, 779042, 127309, 0, 338041, 86102, 101, 0, 53988, 414344, 0],\n",
        "    'AverageDepositCurrent': [0, 14677, 1217665, 2775124, 288693, 4240, 27310, 359303, 2961, 359620, 151731, 3712, 181609, 620122, 5260, 250600, 633176, 62324, 512661, 1342378],\n",
        "    'CreditScore': [937, 789, 584, 940, 681, 976, 810, 336, 885, 673, 765, 735, 720, 799, 579, 640, 0, 726, 517, 797],\n",
        "    'LoanDecision': ['APPROVED', 'APPROVED', 'REJECTED', 'APPROVED', 'REJECTED', 'APPROVED', 'APPROVED', 'REJECTED', 'APPROVED', 'APPROVED', 'APPROVED', 'REJECTED', 'REJECTED', 'REJECTED', 'APPROVED', 'APPROVED', 'REJECTED', 'REJECTED', 'REJECTED', 'REJECTED']\n",
        "}\n",
        "\n",
        "df = pd.DataFrame(data)\n",
        "\n",
        "models = {}\n",
        "\n",
        "\n",
        "for person in df['Person']:\n",
        "    client_data = df[df['Person'] == person]\n",
        "\n",
        "    X = client_data[['AverageDepositSavings', 'AverageDepositCurrent', 'CreditScore']]\n",
        "    y = client_data['LoanDecision']\n",
        "\n",
        "    y = y.map({'APPROVED': 1, 'REJECTED': 0})\n",
        "\n",
        "    model = LinearRegression()\n",
        "\n",
        "    model.fit(X, y)\n",
        "\n",
        "    models[person] = model\n",
        "\n",
        "for person in df['Person']:\n",
        "    model = models[person]\n",
        "\n",
        "    client_data = df[df['Person'] == person]\n",
        "\n",
        "    X_client = client_data[['AverageDepositSavings', 'AverageDepositCurrent', 'CreditScore']]\n",
        "\n",
        "    prediction = model.predict(X_client)\n",
        "\n",
        "\n",
        "    print(f\"Prediction for {person}: {prediction}\")"
      ],
      "metadata": {
        "colab": {
          "base_uri": "https://localhost:8080/"
        },
        "id": "HKARgEb0krwz",
        "outputId": "60688a3c-c09a-44b3-c2b4-656a41a184b2"
      },
      "execution_count": null,
      "outputs": [
        {
          "output_type": "stream",
          "name": "stdout",
          "text": [
            "Prediction for Client01: [1.]\n",
            "Prediction for Client02: [1.]\n",
            "Prediction for Client03: [0.]\n",
            "Prediction for Client04: [1.]\n",
            "Prediction for Client05: [0.]\n",
            "Prediction for Client06: [1.]\n",
            "Prediction for Client07: [1.]\n",
            "Prediction for Client08: [0.]\n",
            "Prediction for Client09: [1.]\n",
            "Prediction for Client10: [1.]\n",
            "Prediction for Client11: [1.]\n",
            "Prediction for Client12: [0.]\n",
            "Prediction for Client13: [0.]\n",
            "Prediction for Client14: [0.]\n",
            "Prediction for Client15: [1.]\n",
            "Prediction for Client16: [1.]\n",
            "Prediction for Client17: [0.]\n",
            "Prediction for Client18: [0.]\n",
            "Prediction for Client19: [0.]\n",
            "Prediction for Client20: [0.]\n"
          ]
        }
      ]
    }
  ],
  "metadata": {
    "colab": {
      "provenance": [],
      "gpuType": "T4",
      "authorship_tag": "ABX9TyMpce+y8qWgGPIN6XPUglQr",
      "include_colab_link": true
    },
    "kernelspec": {
      "display_name": "Python 3",
      "name": "python3"
    },
    "language_info": {
      "name": "python"
    },
    "accelerator": "GPU"
  },
  "nbformat": 4,
  "nbformat_minor": 0
}