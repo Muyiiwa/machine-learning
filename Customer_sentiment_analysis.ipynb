{
  "nbformat": 4,
  "nbformat_minor": 0,
  "metadata": {
    "colab": {
      "provenance": [],
      "authorship_tag": "ABX9TyOrwpC4u9cppWhkhtIlshLM",
      "include_colab_link": true
    },
    "kernelspec": {
      "name": "python3",
      "display_name": "Python 3"
    },
    "language_info": {
      "name": "python"
    }
  },
  "cells": [
    {
      "cell_type": "markdown",
      "metadata": {
        "id": "view-in-github",
        "colab_type": "text"
      },
      "source": [
        "<a href=\"https://colab.research.google.com/github/Muyiiwa/machine-learning/blob/main/Customer_sentiment_analysis.ipynb\" target=\"_parent\"><img src=\"https://colab.research.google.com/assets/colab-badge.svg\" alt=\"Open In Colab\"/></a>"
      ]
    },
    {
      "cell_type": "code",
      "execution_count": null,
      "metadata": {
        "id": "g9C_2TvwY2Pi"
      },
      "outputs": [],
      "source": [
        "import nltk\n",
        "from nltk.sentiment import SentimentIntensityAnalyzer\n",
        "\n",
        "# Download the vader_lexicon resource\n",
        "nltk.download('vader_lexicon')\n",
        "\n",
        "# Rest of the code remains the same...\n",
        "# Function to analyze sentiment of a given text\n",
        "def analyze_sentiment(text):\n",
        "    sid = SentimentIntensityAnalyzer()\n",
        "    sentiment_scores = sid.polarity_scores(text)\n",
        "\n",
        "    # Returning the sentiment score\n",
        "    return sentiment_scores['compound']\n",
        "\n",
        "# Example customer reviews\n",
        "reviews = [\n",
        "    \"The service quality is great! I'm happy.\",\n",
        "    \"The delivery  came and the customer support was helpful.\",\n",
        "    \"I love the quality, but the product was complete.\",\n",
        "    \"The service was poor and the staff was unhelpful.\",\n",
        "    \"I'm disappointed with the service. The service doesn't work.\"\n",
        "]\n",
        "\n",
        "# Analyzing sentiment for each review\n",
        "for review in reviews:\n",
        "    sentiment_score = analyze_sentiment(review)\n",
        "\n",
        "    # Classifying sentiment based on the score\n",
        "    if sentiment_score >= 0.05:\n",
        "        sentiment = 'Positive'\n",
        "    elif sentiment_score <= -0.05:\n",
        "        sentiment = 'Negative'\n",
        "    else:\n",
        "        sentiment = 'Neutral'\n",
        "\n",
        "    print(f\"Review: {review}\")\n",
        "    print(f\"Sentiment: {sentiment}\")\n",
        "    print(f\"Sentiment Score: {sentiment_score}\")\n",
        "    print()"
      ]
    }
  ]
}